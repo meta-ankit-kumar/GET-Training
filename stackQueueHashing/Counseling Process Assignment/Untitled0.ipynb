{
  "nbformat": 4,
  "nbformat_minor": 0,
  "metadata": {
    "colab": {
      "name": "Untitled0.ipynb",
      "provenance": []
    },
    "kernelspec": {
      "name": "python3",
      "display_name": "Python 3"
    },
    "language_info": {
      "name": "python"
    }
  },
  "cells": [
    {
      "cell_type": "code",
      "metadata": {
        "id": "VYZaJWV2nX9i",
        "colab": {
          "base_uri": "https://localhost:8080/"
        },
        "outputId": "881dd7a9-e06e-4758-a0f8-20ecbdceb04e"
      },
      "source": [
        "print(\"hello\")"
      ],
      "execution_count": 144,
      "outputs": [
        {
          "output_type": "stream",
          "text": [
            "hello\n"
          ],
          "name": "stdout"
        }
      ]
    },
    {
      "cell_type": "code",
      "metadata": {
        "id": "p_V1d8AsRZpm"
      },
      "source": [
        "import pandas as pd\n",
        "df = pd.read_excel (r'college (3).xlsx',header=None)\n",
        "courseColumn = df.get(0)"
      ],
      "execution_count": 145,
      "outputs": []
    },
    {
      "cell_type": "code",
      "metadata": {
        "id": "cgwLpoe8UNHX"
      },
      "source": [
        "courseListOfferedByCollege = courseColumn.to_list()"
      ],
      "execution_count": 146,
      "outputs": []
    },
    {
      "cell_type": "code",
      "metadata": {
        "colab": {
          "base_uri": "https://localhost:8080/"
        },
        "id": "xGbJZOCkVZsZ",
        "outputId": "54bbc5f5-00e9-4e91-f43d-fb618c7ed1df"
      },
      "source": [
        "courseListOfferedByCollege"
      ],
      "execution_count": 147,
      "outputs": [
        {
          "output_type": "execute_result",
          "data": {
            "text/plain": [
              "['Computer Science',\n",
              " 'Civil',\n",
              " 'Mechanical',\n",
              " 'Artificial Intelligence',\n",
              " 'Electrical',\n",
              " 'Electronics',\n",
              " 'Chemical',\n",
              " 'Aeronautical',\n",
              " 'Mathematics',\n",
              " 'Chemistry',\n",
              " 'Physics']"
            ]
          },
          "metadata": {
            "tags": []
          },
          "execution_count": 147
        }
      ]
    },
    {
      "cell_type": "code",
      "metadata": {
        "id": "TN4TG59uWdHN"
      },
      "source": [
        "capacity = df.get(1)\n",
        "capacityListOfEachCourse = capacity.to_list()"
      ],
      "execution_count": 148,
      "outputs": []
    },
    {
      "cell_type": "code",
      "metadata": {
        "colab": {
          "base_uri": "https://localhost:8080/"
        },
        "id": "8dSD_CfqW08p",
        "outputId": "b22a5ced-dcb5-4ccc-81aa-863cd7440348"
      },
      "source": [
        "capacityListOfEachCourse"
      ],
      "execution_count": 149,
      "outputs": [
        {
          "output_type": "execute_result",
          "data": {
            "text/plain": [
              "[1, 8, 10, 6, 15, 10, 8, 12, 6, 11, 0]"
            ]
          },
          "metadata": {
            "tags": []
          },
          "execution_count": 149
        }
      ]
    },
    {
      "cell_type": "code",
      "metadata": {
        "id": "9jAnPykVW2Hi"
      },
      "source": [
        "dictionaryOfCourseAndCapacity = dict()"
      ],
      "execution_count": 150,
      "outputs": []
    },
    {
      "cell_type": "code",
      "metadata": {
        "id": "PSzO0MNtXOsE"
      },
      "source": [
        "for i in range(0,len(courseListOfferedByCollege)):\n",
        "  dictionaryOfCourseAndCapacity[courseListOfferedByCollege[i].upper()] = capacityListOfEachCourse[i]"
      ],
      "execution_count": 151,
      "outputs": []
    },
    {
      "cell_type": "code",
      "metadata": {
        "colab": {
          "base_uri": "https://localhost:8080/"
        },
        "id": "bS7Mb6nxXem5",
        "outputId": "59eeedde-5549-48e4-a861-62bea70fba91"
      },
      "source": [
        "dictionaryOfCourseAndCapacity"
      ],
      "execution_count": 152,
      "outputs": [
        {
          "output_type": "execute_result",
          "data": {
            "text/plain": [
              "{'AERONAUTICAL': 12,\n",
              " 'ARTIFICIAL INTELLIGENCE': 6,\n",
              " 'CHEMICAL': 8,\n",
              " 'CHEMISTRY': 11,\n",
              " 'CIVIL': 8,\n",
              " 'COMPUTER SCIENCE': 1,\n",
              " 'ELECTRICAL': 15,\n",
              " 'ELECTRONICS': 10,\n",
              " 'MATHEMATICS': 6,\n",
              " 'MECHANICAL': 10,\n",
              " 'PHYSICS': 0}"
            ]
          },
          "metadata": {
            "tags": []
          },
          "execution_count": 152
        }
      ]
    },
    {
      "cell_type": "code",
      "metadata": {
        "id": "13ov33mkXgXi"
      },
      "source": [
        "import pandas as pd\n",
        "df = pd.read_excel (r'student (5).xlsx',header=None)\n",
        "nameColumn = df.get(0)"
      ],
      "execution_count": 153,
      "outputs": []
    },
    {
      "cell_type": "code",
      "metadata": {
        "colab": {
          "base_uri": "https://localhost:8080/"
        },
        "id": "EvRDXVV-ZXnp",
        "outputId": "2367f027-8f08-464a-e902-ed83f76be2b2"
      },
      "source": [
        "listOfStudentsName = nameColumn.to_list()\n",
        "print(listOfStudentsName)"
      ],
      "execution_count": 154,
      "outputs": [
        {
          "output_type": "stream",
          "text": [
            "['Ankit', 'Amit', 'Rahul', 'Rakesh', 'Suresh', 'Pradeep', 'Sandeep', 'Akshat']\n"
          ],
          "name": "stdout"
        }
      ]
    },
    {
      "cell_type": "code",
      "metadata": {
        "colab": {
          "base_uri": "https://localhost:8080/",
          "height": 297
        },
        "id": "WB_jTNc3ZjOx",
        "outputId": "94254514-c2aa-43ae-ed7b-86c7a73ba494"
      },
      "source": [
        "df"
      ],
      "execution_count": 155,
      "outputs": [
        {
          "output_type": "execute_result",
          "data": {
            "text/html": [
              "<div>\n",
              "<style scoped>\n",
              "    .dataframe tbody tr th:only-of-type {\n",
              "        vertical-align: middle;\n",
              "    }\n",
              "\n",
              "    .dataframe tbody tr th {\n",
              "        vertical-align: top;\n",
              "    }\n",
              "\n",
              "    .dataframe thead th {\n",
              "        text-align: right;\n",
              "    }\n",
              "</style>\n",
              "<table border=\"1\" class=\"dataframe\">\n",
              "  <thead>\n",
              "    <tr style=\"text-align: right;\">\n",
              "      <th></th>\n",
              "      <th>0</th>\n",
              "      <th>1</th>\n",
              "    </tr>\n",
              "  </thead>\n",
              "  <tbody>\n",
              "    <tr>\n",
              "      <th>0</th>\n",
              "      <td>Ankit</td>\n",
              "      <td>Computer Science,Civil,Chemistry,Physics,Elect...</td>\n",
              "    </tr>\n",
              "    <tr>\n",
              "      <th>1</th>\n",
              "      <td>Amit</td>\n",
              "      <td>Electronics,Aeronautical,Chemistry,Computer Sc...</td>\n",
              "    </tr>\n",
              "    <tr>\n",
              "      <th>2</th>\n",
              "      <td>Rahul</td>\n",
              "      <td>Computer Science,Civil,Electrical,Chemistry,El...</td>\n",
              "    </tr>\n",
              "    <tr>\n",
              "      <th>3</th>\n",
              "      <td>Rakesh</td>\n",
              "      <td>Electrical,Mathematics,Computer Science,Physic...</td>\n",
              "    </tr>\n",
              "    <tr>\n",
              "      <th>4</th>\n",
              "      <td>Suresh</td>\n",
              "      <td>Computer Science,Civil,Chemistry,Physics,Elect...</td>\n",
              "    </tr>\n",
              "    <tr>\n",
              "      <th>5</th>\n",
              "      <td>Pradeep</td>\n",
              "      <td>Electrical,Mathematics,Computer Science,Physic...</td>\n",
              "    </tr>\n",
              "    <tr>\n",
              "      <th>6</th>\n",
              "      <td>Sandeep</td>\n",
              "      <td>Biology,Physics,Aeronautical,Mathematics,Mecha...</td>\n",
              "    </tr>\n",
              "    <tr>\n",
              "      <th>7</th>\n",
              "      <td>Akshat</td>\n",
              "      <td>Biotechnology,Information Technology</td>\n",
              "    </tr>\n",
              "  </tbody>\n",
              "</table>\n",
              "</div>"
            ],
            "text/plain": [
              "         0                                                  1\n",
              "0    Ankit  Computer Science,Civil,Chemistry,Physics,Elect...\n",
              "1     Amit  Electronics,Aeronautical,Chemistry,Computer Sc...\n",
              "2    Rahul  Computer Science,Civil,Electrical,Chemistry,El...\n",
              "3   Rakesh  Electrical,Mathematics,Computer Science,Physic...\n",
              "4   Suresh  Computer Science,Civil,Chemistry,Physics,Elect...\n",
              "5  Pradeep  Electrical,Mathematics,Computer Science,Physic...\n",
              "6  Sandeep  Biology,Physics,Aeronautical,Mathematics,Mecha...\n",
              "7   Akshat               Biotechnology,Information Technology"
            ]
          },
          "metadata": {
            "tags": []
          },
          "execution_count": 155
        }
      ]
    },
    {
      "cell_type": "code",
      "metadata": {
        "id": "KmPUnUkrZnKW"
      },
      "source": [
        "studentPreference = df.get(1).to_list()"
      ],
      "execution_count": 156,
      "outputs": []
    },
    {
      "cell_type": "code",
      "metadata": {
        "colab": {
          "base_uri": "https://localhost:8080/"
        },
        "id": "KvHCG39vZp36",
        "outputId": "fbfd1295-6910-4c26-b9dc-ac8df3db8b32"
      },
      "source": [
        "studentPreference"
      ],
      "execution_count": 157,
      "outputs": [
        {
          "output_type": "execute_result",
          "data": {
            "text/plain": [
              "['Computer Science,Civil,Chemistry,Physics,Electrical',\n",
              " 'Electronics,Aeronautical,Chemistry,Computer Science,Civil ',\n",
              " 'Computer Science,Civil,Electrical,Chemistry,Electronics',\n",
              " 'Electrical,Mathematics,Computer Science,Physics,Mechanical',\n",
              " 'Computer Science,Civil,Chemistry,Physics,Electrical',\n",
              " 'Electrical,Mathematics,Computer Science,Physics,Civil',\n",
              " 'Biology,Physics,Aeronautical,Mathematics,Mechanical,Electronics ',\n",
              " 'Biotechnology,Information Technology']"
            ]
          },
          "metadata": {
            "tags": []
          },
          "execution_count": 157
        }
      ]
    },
    {
      "cell_type": "code",
      "metadata": {
        "id": "TfLa-QNGZz2z"
      },
      "source": [
        "from collections import OrderedDict\n",
        "dictionaryOfStudentAndPreferences = OrderedDict()"
      ],
      "execution_count": 158,
      "outputs": []
    },
    {
      "cell_type": "code",
      "metadata": {
        "id": "OGoniCdMZ8E5"
      },
      "source": [
        "for i in range(0,len(listOfStudentsName)):\n",
        "  dictionaryOfStudentAndPreferences[listOfStudentsName[i].upper()] = studentPreference[i].upper()"
      ],
      "execution_count": 159,
      "outputs": []
    },
    {
      "cell_type": "code",
      "metadata": {
        "colab": {
          "base_uri": "https://localhost:8080/"
        },
        "id": "Lxn_tQE7aK7x",
        "outputId": "5ea0bfd7-a2c7-4397-902a-58c3acf7a41b"
      },
      "source": [
        "dictionaryOfCourseAndCapacity"
      ],
      "execution_count": 160,
      "outputs": [
        {
          "output_type": "execute_result",
          "data": {
            "text/plain": [
              "{'AERONAUTICAL': 12,\n",
              " 'ARTIFICIAL INTELLIGENCE': 6,\n",
              " 'CHEMICAL': 8,\n",
              " 'CHEMISTRY': 11,\n",
              " 'CIVIL': 8,\n",
              " 'COMPUTER SCIENCE': 1,\n",
              " 'ELECTRICAL': 15,\n",
              " 'ELECTRONICS': 10,\n",
              " 'MATHEMATICS': 6,\n",
              " 'MECHANICAL': 10,\n",
              " 'PHYSICS': 0}"
            ]
          },
          "metadata": {
            "tags": []
          },
          "execution_count": 160
        }
      ]
    },
    {
      "cell_type": "code",
      "metadata": {
        "colab": {
          "base_uri": "https://localhost:8080/"
        },
        "id": "kuqM9Xc3aMtL",
        "outputId": "d3714f18-51bf-452c-efc9-fcd6c76c8c0a"
      },
      "source": [
        "dictionaryOfStudentAndPreferences"
      ],
      "execution_count": 161,
      "outputs": [
        {
          "output_type": "execute_result",
          "data": {
            "text/plain": [
              "OrderedDict([('ANKIT', 'COMPUTER SCIENCE,CIVIL,CHEMISTRY,PHYSICS,ELECTRICAL'),\n",
              "             ('AMIT',\n",
              "              'ELECTRONICS,AERONAUTICAL,CHEMISTRY,COMPUTER SCIENCE,CIVIL '),\n",
              "             ('RAHUL',\n",
              "              'COMPUTER SCIENCE,CIVIL,ELECTRICAL,CHEMISTRY,ELECTRONICS'),\n",
              "             ('RAKESH',\n",
              "              'ELECTRICAL,MATHEMATICS,COMPUTER SCIENCE,PHYSICS,MECHANICAL'),\n",
              "             ('SURESH', 'COMPUTER SCIENCE,CIVIL,CHEMISTRY,PHYSICS,ELECTRICAL'),\n",
              "             ('PRADEEP',\n",
              "              'ELECTRICAL,MATHEMATICS,COMPUTER SCIENCE,PHYSICS,CIVIL'),\n",
              "             ('SANDEEP',\n",
              "              'BIOLOGY,PHYSICS,AERONAUTICAL,MATHEMATICS,MECHANICAL,ELECTRONICS '),\n",
              "             ('AKSHAT', 'BIOTECHNOLOGY,INFORMATION TECHNOLOGY')])"
            ]
          },
          "metadata": {
            "tags": []
          },
          "execution_count": 161
        }
      ]
    },
    {
      "cell_type": "code",
      "metadata": {
        "id": "2oMJp6RGaOHP"
      },
      "source": [
        "class Student:\n",
        "  def __init__(self, name, preferences):\n",
        "    self.name = name\n",
        "    self.preferences = preferences"
      ],
      "execution_count": 162,
      "outputs": []
    },
    {
      "cell_type": "code",
      "metadata": {
        "id": "4U3yDqtbbMze"
      },
      "source": [
        "students = list()\n",
        "for key,value in dictionaryOfStudentAndPreferences.items():\n",
        "  students.append(Student(key, value))"
      ],
      "execution_count": 163,
      "outputs": []
    },
    {
      "cell_type": "code",
      "metadata": {
        "colab": {
          "base_uri": "https://localhost:8080/"
        },
        "id": "w79vkddmbiew",
        "outputId": "cc2d81e2-dfa9-4c4c-9676-883cc5ff8c8d"
      },
      "source": [
        "students"
      ],
      "execution_count": 164,
      "outputs": [
        {
          "output_type": "execute_result",
          "data": {
            "text/plain": [
              "[<__main__.Student at 0x7fd2b789cd10>,\n",
              " <__main__.Student at 0x7fd2b789cf10>,\n",
              " <__main__.Student at 0x7fd2b789ca90>,\n",
              " <__main__.Student at 0x7fd2b789c350>,\n",
              " <__main__.Student at 0x7fd2b789cd90>,\n",
              " <__main__.Student at 0x7fd2b789c050>,\n",
              " <__main__.Student at 0x7fd2b789c210>,\n",
              " <__main__.Student at 0x7fd2b78a9b50>]"
            ]
          },
          "metadata": {
            "tags": []
          },
          "execution_count": 164
        }
      ]
    },
    {
      "cell_type": "code",
      "metadata": {
        "colab": {
          "base_uri": "https://localhost:8080/"
        },
        "id": "8DqfS9ZIbjCa",
        "outputId": "442fe82f-cb7b-48e6-8499-84289aa8dad1"
      },
      "source": [
        "students[6].preferences.split(\",\")"
      ],
      "execution_count": 165,
      "outputs": [
        {
          "output_type": "execute_result",
          "data": {
            "text/plain": [
              "['BIOLOGY',\n",
              " 'PHYSICS',\n",
              " 'AERONAUTICAL',\n",
              " 'MATHEMATICS',\n",
              " 'MECHANICAL',\n",
              " 'ELECTRONICS ']"
            ]
          },
          "metadata": {
            "tags": []
          },
          "execution_count": 165
        }
      ]
    },
    {
      "cell_type": "code",
      "metadata": {
        "id": "CU389ygubmQw"
      },
      "source": [
        ""
      ],
      "execution_count": 165,
      "outputs": []
    },
    {
      "cell_type": "code",
      "metadata": {
        "id": "jkXq84_ncCEm"
      },
      "source": [
        "dictionaryForFinalAllotment = OrderedDict()"
      ],
      "execution_count": 166,
      "outputs": []
    },
    {
      "cell_type": "code",
      "metadata": {
        "id": "jk5N9mHfcXGe"
      },
      "source": [
        "for student in students:\n",
        "  isAllocated = False\n",
        "  for choice in student.preferences.split(\",\"):\n",
        "    if choice in dictionaryOfCourseAndCapacity.keys():\n",
        "      if dictionaryOfCourseAndCapacity[choice] > 0:\n",
        "        dictionaryForFinalAllotment[student.name] = choice\n",
        "        dictionaryOfCourseAndCapacity[choice] -= 1\n",
        "        isAllocated = True\n",
        "        break\n",
        "      else:\n",
        "        continue\n",
        "    else:\n",
        "      continue\n",
        "  if isAllocated:\n",
        "    continue\n",
        "  else:\n",
        "    dictionaryForFinalAllotment[student.name] = \"Not Allocated Any Seat\""
      ],
      "execution_count": 167,
      "outputs": []
    },
    {
      "cell_type": "code",
      "metadata": {
        "colab": {
          "base_uri": "https://localhost:8080/"
        },
        "id": "g5rerhzse5fE",
        "outputId": "3882c13e-76a9-4126-efb4-e816d6bed328"
      },
      "source": [
        "dictionaryForFinalAllotment"
      ],
      "execution_count": 168,
      "outputs": [
        {
          "output_type": "execute_result",
          "data": {
            "text/plain": [
              "OrderedDict([('ANKIT', 'COMPUTER SCIENCE'),\n",
              "             ('AMIT', 'ELECTRONICS'),\n",
              "             ('RAHUL', 'CIVIL'),\n",
              "             ('RAKESH', 'ELECTRICAL'),\n",
              "             ('SURESH', 'CIVIL'),\n",
              "             ('PRADEEP', 'ELECTRICAL'),\n",
              "             ('SANDEEP', 'AERONAUTICAL'),\n",
              "             ('AKSHAT', 'Not Allocated Any Seat')])"
            ]
          },
          "metadata": {
            "tags": []
          },
          "execution_count": 168
        }
      ]
    },
    {
      "cell_type": "code",
      "metadata": {
        "id": "AP21IR9nfM35"
      },
      "source": [
        "finalResult = pd.DataFrame(list(dictionaryForFinalAllotment.items()), columns = ['Student Name', \"Seat Alloted\"])"
      ],
      "execution_count": 170,
      "outputs": []
    },
    {
      "cell_type": "code",
      "metadata": {
        "id": "ucCLF2vwgVCL"
      },
      "source": [
        "finalResult.to_excel('Final Result.xlsx')"
      ],
      "execution_count": 172,
      "outputs": []
    },
    {
      "cell_type": "code",
      "metadata": {
        "id": "V85Q-y06jAKY"
      },
      "source": [
        ""
      ],
      "execution_count": null,
      "outputs": []
    }
  ]
}